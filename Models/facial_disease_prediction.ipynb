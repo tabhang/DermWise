{
  "nbformat": 4,
  "nbformat_minor": 0,
  "metadata": {
    "colab": {
      "provenance": []
    },
    "kernelspec": {
      "name": "python3",
      "display_name": "Python 3"
    },
    "language_info": {
      "name": "python"
    }
  },
  "cells": [
    {
      "cell_type": "code",
      "execution_count": 59,
      "metadata": {
        "id": "oV-7VQc1vISG"
      },
      "outputs": [],
      "source": [
        "import os\n",
        "for dirname, _, filenames in os.walk('/content/drive/MyDrive/HackBU/DATA'):\n",
        "    for filename in filenames:\n",
        "        os.path.join(dirname, filename)"
      ]
    },
    {
      "cell_type": "code",
      "source": [
        "import os\n",
        "import matplotlib.pyplot as plt\n",
        "import cv2\n",
        "from tensorflow.keras.models import Model, Sequential\n",
        "from tensorflow.keras.layers import Input, Convolution2D, ZeroPadding2D,MaxPooling2D, Flatten, Dense, Dropout, Activation\n",
        "from PIL import Image\n",
        "import numpy as np\n",
        "from tensorflow.keras.preprocessing.image import load_img, save_img, img_to_array\n",
        "from tensorflow.keras.applications.imagenet_utils import preprocess_input\n",
        "from tensorflow.keras.preprocessing import image\n",
        "import pandas as pd\n",
        "import tensorflow as tf\n",
        "import keras\n",
        "import pickle"
      ],
      "metadata": {
        "id": "zPQhjeQL0ylT"
      },
      "execution_count": 60,
      "outputs": []
    },
    {
      "cell_type": "code",
      "source": [
        "train_list_mod=['Acne','Actinic Keratosis']"
      ],
      "metadata": {
        "id": "VJ53bmtQ01NN"
      },
      "execution_count": 61,
      "outputs": []
    },
    {
      "cell_type": "code",
      "source": [
        "len(train_list_mod)"
      ],
      "metadata": {
        "colab": {
          "base_uri": "https://localhost:8080/"
        },
        "id": "M7hJEpcT0-Jo",
        "outputId": "1b23ee92-37a9-4f2e-afb8-0c2f38eb0aff"
      },
      "execution_count": 62,
      "outputs": [
        {
          "output_type": "execute_result",
          "data": {
            "text/plain": [
              "2"
            ]
          },
          "metadata": {},
          "execution_count": 62
        }
      ]
    },
    {
      "cell_type": "code",
      "source": [
        "def data_dictionary():\n",
        "    path_train=\"/content/drive/MyDrive/HackBU/DATA/train/\"\n",
        "    path_test=\"/content/drive/MyDrive/HackBU/DATA/testing/\"\n",
        "    list_train=train_list_mod#os.listdir(path_train)\n",
        "    train_dictionary={\"image_path\":[],\"target\":[]}\n",
        "    test_dictionary={\"image_path\":[],\"target\":[]}\n",
        "    k=0\n",
        "    for i in list_train:\n",
        "        path_disease_train=path_train+i\n",
        "        path_disease_test=path_test+i\n",
        "        image_list_train=os.listdir(path_disease_train)\n",
        "        image_list_test=os.listdir(path_disease_test)\n",
        "        for j in image_list_train:\n",
        "            img_path_train=path_disease_train+\"/\"+j\n",
        "            train_dictionary[\"image_path\"].append(img_path_train)\n",
        "            train_dictionary['target'].append(k)\n",
        "        for m in image_list_test :\n",
        "            img_path_test=path_disease_test+\"/\"+m\n",
        "            test_dictionary[\"image_path\"].append(img_path_test)\n",
        "            test_dictionary['target'].append(k)\n",
        "        k+=1\n",
        "    test_df=pd.DataFrame(test_dictionary)\n",
        "    train_df=pd.DataFrame(train_dictionary)\n",
        "\n",
        "    return  train_df,test_df"
      ],
      "metadata": {
        "id": "6oNmpnDL1DUC"
      },
      "execution_count": 63,
      "outputs": []
    },
    {
      "cell_type": "code",
      "source": [
        "def load_data(input_size=(100,100)):\n",
        "    images=[]\n",
        "    images2=[]\n",
        "    train_df,test_df=data_dictionary()\n",
        "    for i in train_df['image_path']:\n",
        "        img=cv2.imread(i)\n",
        "        img=cv2.resize(img,input_size)\n",
        "        images.append(img)\n",
        "    y_train=np.asarray(train_df['target'])\n",
        "    x_train=np.asarray(images)\n",
        "    for i in test_df['image_path']:\n",
        "        img=cv2.imread(i)\n",
        "        img=cv2.resize(img,input_size)\n",
        "        images2.append(img)\n",
        "    y_test=np.asarray(test_df['target'])\n",
        "    x_test=np.asarray(images2)\n",
        "    return x_train,x_test,y_train,y_test"
      ],
      "metadata": {
        "id": "UBkjZxDW1Jbu"
      },
      "execution_count": 64,
      "outputs": []
    },
    {
      "cell_type": "code",
      "source": [
        "x_train,x_test,y_train,y_test=load_data(input_size=(100,100))"
      ],
      "metadata": {
        "id": "aakgYAkH1NDr"
      },
      "execution_count": 65,
      "outputs": []
    },
    {
      "cell_type": "code",
      "source": [
        "from tensorflow.keras.applications import  VGG19\n",
        "from tensorflow.keras.models import Model\n",
        "from keras.applications.vgg19 import preprocess_input"
      ],
      "metadata": {
        "id": "r1yJvV5D1R_0"
      },
      "execution_count": 66,
      "outputs": []
    },
    {
      "cell_type": "code",
      "source": [
        "vgg16 = VGG19(include_top=False,weights='imagenet')"
      ],
      "metadata": {
        "id": "HenJm68x1WYQ"
      },
      "execution_count": 67,
      "outputs": []
    },
    {
      "cell_type": "code",
      "source": [
        "vgg16.summary()"
      ],
      "metadata": {
        "colab": {
          "base_uri": "https://localhost:8080/"
        },
        "id": "u3Hnx0ap1h6j",
        "outputId": "d40e5f5c-1c85-4aa0-f1da-cc73f798c470"
      },
      "execution_count": 68,
      "outputs": [
        {
          "output_type": "stream",
          "name": "stdout",
          "text": [
            "Model: \"vgg19\"\n",
            "_________________________________________________________________\n",
            " Layer (type)                Output Shape              Param #   \n",
            "=================================================================\n",
            " input_2 (InputLayer)        [(None, None, None, 3)]   0         \n",
            "                                                                 \n",
            " block1_conv1 (Conv2D)       (None, None, None, 64)    1792      \n",
            "                                                                 \n",
            " block1_conv2 (Conv2D)       (None, None, None, 64)    36928     \n",
            "                                                                 \n",
            " block1_pool (MaxPooling2D)  (None, None, None, 64)    0         \n",
            "                                                                 \n",
            " block2_conv1 (Conv2D)       (None, None, None, 128)   73856     \n",
            "                                                                 \n",
            " block2_conv2 (Conv2D)       (None, None, None, 128)   147584    \n",
            "                                                                 \n",
            " block2_pool (MaxPooling2D)  (None, None, None, 128)   0         \n",
            "                                                                 \n",
            " block3_conv1 (Conv2D)       (None, None, None, 256)   295168    \n",
            "                                                                 \n",
            " block3_conv2 (Conv2D)       (None, None, None, 256)   590080    \n",
            "                                                                 \n",
            " block3_conv3 (Conv2D)       (None, None, None, 256)   590080    \n",
            "                                                                 \n",
            " block3_conv4 (Conv2D)       (None, None, None, 256)   590080    \n",
            "                                                                 \n",
            " block3_pool (MaxPooling2D)  (None, None, None, 256)   0         \n",
            "                                                                 \n",
            " block4_conv1 (Conv2D)       (None, None, None, 512)   1180160   \n",
            "                                                                 \n",
            " block4_conv2 (Conv2D)       (None, None, None, 512)   2359808   \n",
            "                                                                 \n",
            " block4_conv3 (Conv2D)       (None, None, None, 512)   2359808   \n",
            "                                                                 \n",
            " block4_conv4 (Conv2D)       (None, None, None, 512)   2359808   \n",
            "                                                                 \n",
            " block4_pool (MaxPooling2D)  (None, None, None, 512)   0         \n",
            "                                                                 \n",
            " block5_conv1 (Conv2D)       (None, None, None, 512)   2359808   \n",
            "                                                                 \n",
            " block5_conv2 (Conv2D)       (None, None, None, 512)   2359808   \n",
            "                                                                 \n",
            " block5_conv3 (Conv2D)       (None, None, None, 512)   2359808   \n",
            "                                                                 \n",
            " block5_conv4 (Conv2D)       (None, None, None, 512)   2359808   \n",
            "                                                                 \n",
            " block5_pool (MaxPooling2D)  (None, None, None, 512)   0         \n",
            "                                                                 \n",
            "=================================================================\n",
            "Total params: 20024384 (76.39 MB)\n",
            "Trainable params: 20024384 (76.39 MB)\n",
            "Non-trainable params: 0 (0.00 Byte)\n",
            "_________________________________________________________________\n"
          ]
        }
      ]
    },
    {
      "cell_type": "code",
      "source": [
        "import joblib"
      ],
      "metadata": {
        "id": "Qc9SWQCU1pVm"
      },
      "execution_count": 69,
      "outputs": []
    },
    {
      "cell_type": "code",
      "source": [
        "filename=\"vgg16.sav\"\n",
        "joblib.dump(vgg16,open(filename,'wb'))"
      ],
      "metadata": {
        "id": "GOwOMeIK2AW6"
      },
      "execution_count": 70,
      "outputs": []
    },
    {
      "cell_type": "code",
      "source": [
        "vgg19=joblib.load(\"vgg16.sav\")"
      ],
      "metadata": {
        "id": "M8aSQtszBWFj"
      },
      "execution_count": 71,
      "outputs": []
    },
    {
      "cell_type": "code",
      "source": [
        "train_img=preprocess_input(x_train)\n",
        "test_img=preprocess_input(x_test)"
      ],
      "metadata": {
        "id": "4yCWPOwgBb5I"
      },
      "execution_count": 72,
      "outputs": []
    },
    {
      "cell_type": "code",
      "source": [
        "features_train=vgg16.predict(train_img)"
      ],
      "metadata": {
        "colab": {
          "base_uri": "https://localhost:8080/"
        },
        "id": "TpZ2XcXUBlky",
        "outputId": "24d5f3a6-6387-408c-fc3a-408c8e55e7dd"
      },
      "execution_count": 73,
      "outputs": [
        {
          "output_type": "stream",
          "name": "stdout",
          "text": [
            "6/6 [==============================] - 27s 4s/step\n"
          ]
        }
      ]
    },
    {
      "cell_type": "code",
      "source": [
        "features_train.shape"
      ],
      "metadata": {
        "colab": {
          "base_uri": "https://localhost:8080/"
        },
        "id": "izq3LLdtD-Dv",
        "outputId": "ec06a17e-c5ae-403a-f461-234ead0c5059"
      },
      "execution_count": 74,
      "outputs": [
        {
          "output_type": "execute_result",
          "data": {
            "text/plain": [
              "(176, 3, 3, 512)"
            ]
          },
          "metadata": {},
          "execution_count": 74
        }
      ]
    },
    {
      "cell_type": "code",
      "source": [
        "features_test=vgg16.predict(test_img)"
      ],
      "metadata": {
        "colab": {
          "base_uri": "https://localhost:8080/"
        },
        "id": "LEYA0kj5FAcC",
        "outputId": "d46f52d6-fb46-495d-9a33-119c1bc61619"
      },
      "execution_count": 75,
      "outputs": [
        {
          "output_type": "stream",
          "name": "stdout",
          "text": [
            "3/3 [==============================] - 11s 4s/step\n"
          ]
        }
      ]
    },
    {
      "cell_type": "code",
      "source": [
        "features_test.shape"
      ],
      "metadata": {
        "colab": {
          "base_uri": "https://localhost:8080/"
        },
        "id": "_S2OmxhsJ82n",
        "outputId": "4bd9d1c5-7fb7-49d9-8f73-0159501817b1"
      },
      "execution_count": 76,
      "outputs": [
        {
          "output_type": "execute_result",
          "data": {
            "text/plain": [
              "(74, 3, 3, 512)"
            ]
          },
          "metadata": {},
          "execution_count": 76
        }
      ]
    },
    {
      "cell_type": "code",
      "source": [
        "num_train=x_train.shape[0]\n",
        "num_test=x_test.shape[0]"
      ],
      "metadata": {
        "id": "fzbUdBNHKKmV"
      },
      "execution_count": 77,
      "outputs": []
    },
    {
      "cell_type": "code",
      "source": [
        "x_train=features_train.reshape(num_train,4608)\n",
        "x_test=features_test.reshape(num_test,4608)"
      ],
      "metadata": {
        "id": "ffX4TofFKPsM"
      },
      "execution_count": 78,
      "outputs": []
    },
    {
      "cell_type": "code",
      "source": [
        "from tensorflow.keras.models import Sequential\n",
        "from tensorflow.keras.layers import Conv2D,MaxPooling2D,Flatten, Dense"
      ],
      "metadata": {
        "id": "PwwVeZhGKSGH"
      },
      "execution_count": 79,
      "outputs": []
    },
    {
      "cell_type": "code",
      "source": [
        "model=Sequential([ Dense(1024,activation='relu'),\n",
        "                   Dense(512,activation='relu'),\n",
        "                  Dense(256,activation='relu'),\n",
        "                  Dense(128,activation='relu'),\n",
        "                  Dense(6,activation='sigmoid'),\n",
        "\n",
        "])"
      ],
      "metadata": {
        "id": "MPOubhcqKUMP"
      },
      "execution_count": 80,
      "outputs": []
    },
    {
      "cell_type": "code",
      "source": [
        "model.compile(optimizer='adam',loss=tf.keras.losses.SparseCategoricalCrossentropy(),metrics=['accuracy'])"
      ],
      "metadata": {
        "id": "AohoHFoFKeud"
      },
      "execution_count": 81,
      "outputs": []
    },
    {
      "cell_type": "code",
      "source": [
        "model.fit(x_train,y_train,batch_size=32,epochs=40,validation_data=(x_test,y_test))"
      ],
      "metadata": {
        "colab": {
          "base_uri": "https://localhost:8080/"
        },
        "id": "5qK7pSgkKh1p",
        "outputId": "02d74bfc-dda5-4290-d1a8-d8ac000e17f4"
      },
      "execution_count": 82,
      "outputs": [
        {
          "output_type": "stream",
          "name": "stdout",
          "text": [
            "Epoch 1/40\n",
            "6/6 [==============================] - 3s 206ms/step - loss: 8.6479 - accuracy: 0.4545 - val_loss: 6.0782 - val_accuracy: 0.5000\n",
            "Epoch 2/40\n",
            "6/6 [==============================] - 1s 134ms/step - loss: 1.9210 - accuracy: 0.7614 - val_loss: 2.4138 - val_accuracy: 0.7162\n",
            "Epoch 3/40\n",
            "6/6 [==============================] - 1s 111ms/step - loss: 0.5865 - accuracy: 0.8864 - val_loss: 1.1550 - val_accuracy: 0.7432\n",
            "Epoch 4/40\n",
            "6/6 [==============================] - 1s 103ms/step - loss: 0.2799 - accuracy: 0.9602 - val_loss: 0.8823 - val_accuracy: 0.8919\n",
            "Epoch 5/40\n",
            "6/6 [==============================] - 1s 109ms/step - loss: 0.1799 - accuracy: 0.9545 - val_loss: 0.8048 - val_accuracy: 0.9189\n",
            "Epoch 6/40\n",
            "6/6 [==============================] - 1s 106ms/step - loss: 0.0686 - accuracy: 0.9886 - val_loss: 0.7023 - val_accuracy: 0.8243\n",
            "Epoch 7/40\n",
            "6/6 [==============================] - 1s 107ms/step - loss: 0.0204 - accuracy: 0.9943 - val_loss: 0.7592 - val_accuracy: 0.8649\n",
            "Epoch 8/40\n",
            "6/6 [==============================] - 1s 112ms/step - loss: 0.0340 - accuracy: 0.9943 - val_loss: 0.7215 - val_accuracy: 0.8514\n",
            "Epoch 9/40\n",
            "6/6 [==============================] - 1s 114ms/step - loss: 5.9355e-04 - accuracy: 1.0000 - val_loss: 0.6334 - val_accuracy: 0.8514\n",
            "Epoch 10/40\n",
            "6/6 [==============================] - 1s 104ms/step - loss: 6.6918e-04 - accuracy: 1.0000 - val_loss: 0.5832 - val_accuracy: 0.8378\n",
            "Epoch 11/40\n",
            "6/6 [==============================] - 1s 110ms/step - loss: 5.4418e-04 - accuracy: 1.0000 - val_loss: 0.5569 - val_accuracy: 0.8514\n",
            "Epoch 12/40\n",
            "6/6 [==============================] - 1s 115ms/step - loss: 3.4816e-04 - accuracy: 1.0000 - val_loss: 0.5450 - val_accuracy: 0.8378\n",
            "Epoch 13/40\n",
            "6/6 [==============================] - 1s 106ms/step - loss: 2.5929e-04 - accuracy: 1.0000 - val_loss: 0.5416 - val_accuracy: 0.8514\n",
            "Epoch 14/40\n",
            "6/6 [==============================] - 1s 107ms/step - loss: 1.7358e-04 - accuracy: 1.0000 - val_loss: 0.5443 - val_accuracy: 0.8514\n",
            "Epoch 15/40\n",
            "6/6 [==============================] - 1s 108ms/step - loss: 1.3005e-04 - accuracy: 1.0000 - val_loss: 0.5491 - val_accuracy: 0.8514\n",
            "Epoch 16/40\n",
            "6/6 [==============================] - 1s 107ms/step - loss: 1.1150e-04 - accuracy: 1.0000 - val_loss: 0.5543 - val_accuracy: 0.8514\n",
            "Epoch 17/40\n",
            "6/6 [==============================] - 1s 106ms/step - loss: 1.0687e-04 - accuracy: 1.0000 - val_loss: 0.5598 - val_accuracy: 0.8514\n",
            "Epoch 18/40\n",
            "6/6 [==============================] - 1s 146ms/step - loss: 9.8984e-05 - accuracy: 1.0000 - val_loss: 0.5623 - val_accuracy: 0.8514\n",
            "Epoch 19/40\n",
            "6/6 [==============================] - 1s 138ms/step - loss: 8.6785e-05 - accuracy: 1.0000 - val_loss: 0.5649 - val_accuracy: 0.8514\n",
            "Epoch 20/40\n",
            "6/6 [==============================] - 1s 175ms/step - loss: 8.0413e-05 - accuracy: 1.0000 - val_loss: 0.5674 - val_accuracy: 0.8514\n",
            "Epoch 21/40\n",
            "6/6 [==============================] - 1s 144ms/step - loss: 7.5160e-05 - accuracy: 1.0000 - val_loss: 0.5702 - val_accuracy: 0.8514\n",
            "Epoch 22/40\n",
            "6/6 [==============================] - 1s 154ms/step - loss: 7.1502e-05 - accuracy: 1.0000 - val_loss: 0.5720 - val_accuracy: 0.8514\n",
            "Epoch 23/40\n",
            "6/6 [==============================] - 1s 107ms/step - loss: 6.6811e-05 - accuracy: 1.0000 - val_loss: 0.5746 - val_accuracy: 0.8649\n",
            "Epoch 24/40\n",
            "6/6 [==============================] - 1s 112ms/step - loss: 6.3461e-05 - accuracy: 1.0000 - val_loss: 0.5763 - val_accuracy: 0.8649\n",
            "Epoch 25/40\n",
            "6/6 [==============================] - 1s 112ms/step - loss: 6.0375e-05 - accuracy: 1.0000 - val_loss: 0.5785 - val_accuracy: 0.8649\n",
            "Epoch 26/40\n",
            "6/6 [==============================] - 1s 106ms/step - loss: 5.7161e-05 - accuracy: 1.0000 - val_loss: 0.5813 - val_accuracy: 0.8649\n",
            "Epoch 27/40\n",
            "6/6 [==============================] - 1s 110ms/step - loss: 5.4365e-05 - accuracy: 1.0000 - val_loss: 0.5839 - val_accuracy: 0.8649\n",
            "Epoch 28/40\n",
            "6/6 [==============================] - 1s 106ms/step - loss: 5.1108e-05 - accuracy: 1.0000 - val_loss: 0.5885 - val_accuracy: 0.8649\n",
            "Epoch 29/40\n",
            "6/6 [==============================] - 1s 107ms/step - loss: 4.9052e-05 - accuracy: 1.0000 - val_loss: 0.5922 - val_accuracy: 0.8649\n",
            "Epoch 30/40\n",
            "6/6 [==============================] - 1s 118ms/step - loss: 4.1171e-05 - accuracy: 1.0000 - val_loss: 0.5919 - val_accuracy: 0.8649\n",
            "Epoch 31/40\n",
            "6/6 [==============================] - 1s 110ms/step - loss: 3.9394e-05 - accuracy: 1.0000 - val_loss: 0.5958 - val_accuracy: 0.8649\n",
            "Epoch 32/40\n",
            "6/6 [==============================] - 1s 110ms/step - loss: 3.6281e-05 - accuracy: 1.0000 - val_loss: 0.6019 - val_accuracy: 0.8649\n",
            "Epoch 33/40\n",
            "6/6 [==============================] - 1s 123ms/step - loss: 3.3396e-05 - accuracy: 1.0000 - val_loss: 0.6083 - val_accuracy: 0.8649\n",
            "Epoch 34/40\n",
            "6/6 [==============================] - 1s 113ms/step - loss: 3.1290e-05 - accuracy: 1.0000 - val_loss: 0.6145 - val_accuracy: 0.8649\n",
            "Epoch 35/40\n",
            "6/6 [==============================] - 1s 108ms/step - loss: 2.8612e-05 - accuracy: 1.0000 - val_loss: 0.6176 - val_accuracy: 0.8649\n",
            "Epoch 36/40\n",
            "6/6 [==============================] - 1s 112ms/step - loss: 2.6735e-05 - accuracy: 1.0000 - val_loss: 0.6202 - val_accuracy: 0.8649\n",
            "Epoch 37/40\n",
            "6/6 [==============================] - 1s 109ms/step - loss: 2.4643e-05 - accuracy: 1.0000 - val_loss: 0.6230 - val_accuracy: 0.8649\n",
            "Epoch 38/40\n",
            "6/6 [==============================] - 1s 137ms/step - loss: 2.3289e-05 - accuracy: 1.0000 - val_loss: 0.6250 - val_accuracy: 0.8649\n",
            "Epoch 39/40\n",
            "6/6 [==============================] - 1s 169ms/step - loss: 2.1813e-05 - accuracy: 1.0000 - val_loss: 0.6280 - val_accuracy: 0.8649\n",
            "Epoch 40/40\n",
            "6/6 [==============================] - 1s 161ms/step - loss: 2.0413e-05 - accuracy: 1.0000 - val_loss: 0.6323 - val_accuracy: 0.8649\n"
          ]
        },
        {
          "output_type": "execute_result",
          "data": {
            "text/plain": [
              "<keras.src.callbacks.History at 0x78968dd878e0>"
            ]
          },
          "metadata": {},
          "execution_count": 82
        }
      ]
    },
    {
      "cell_type": "code",
      "source": [
        "print(f\"Accuracy{model.history.history['accuracy']}\")\n",
        "print(f\"Val accuracy:{round(max(model.history.history['val_accuracy']),5)}\")"
      ],
      "metadata": {
        "colab": {
          "base_uri": "https://localhost:8080/"
        },
        "id": "UV7H7jrRLb4z",
        "outputId": "f177fd9b-f3c3-4071-cace-8385bafbcfa6"
      },
      "execution_count": 83,
      "outputs": [
        {
          "output_type": "stream",
          "name": "stdout",
          "text": [
            "Accuracy[0.4545454680919647, 0.7613636255264282, 0.8863636255264282, 0.9602272510528564, 0.9545454382896423, 0.9886363744735718, 0.9943181872367859, 0.9943181872367859, 1.0, 1.0, 1.0, 1.0, 1.0, 1.0, 1.0, 1.0, 1.0, 1.0, 1.0, 1.0, 1.0, 1.0, 1.0, 1.0, 1.0, 1.0, 1.0, 1.0, 1.0, 1.0, 1.0, 1.0, 1.0, 1.0, 1.0, 1.0, 1.0, 1.0, 1.0, 1.0]\n",
            "Val accuracy:0.91892\n"
          ]
        }
      ]
    },
    {
      "cell_type": "code",
      "source": [
        "plt.plot(model.history.history['accuracy'],label=\"train_accuracy\")\n",
        "plt.plot(model.history.history['val_accuracy'],label=\"validation_accuracy\")\n",
        "plt.legend()\n",
        "plt.show()"
      ],
      "metadata": {
        "colab": {
          "base_uri": "https://localhost:8080/",
          "height": 430
        },
        "id": "125If6DLLXRs",
        "outputId": "ad19ccf2-7e09-48d9-dc36-bea064159017"
      },
      "execution_count": 84,
      "outputs": [
        {
          "output_type": "display_data",
          "data": {
            "text/plain": [
              "<Figure size 640x480 with 1 Axes>"
            ],
            "image/png": "[encoded data removed]"
          },
          "metadata": {}
        }
      ]
    },
    {
      "cell_type": "code",
      "source": [
        "def load_img(img_path):\n",
        "    images=[]\n",
        "    img=cv2.imread(img_path)\n",
        "    img=cv2.resize(img,(100,100))\n",
        "    images.append(img)\n",
        "    x_test=np.asarray(images)\n",
        "    test_img=preprocess_input(x_test)\n",
        "    features_test=vgg16.predict(test_img)\n",
        "    num_test=x_test.shape[0]\n",
        "    f_img=features_test.reshape(num_test,4608)\n",
        "\n",
        "    return f_img"
      ],
      "metadata": {
        "id": "y5Eh7vT-rZ_e"
      },
      "execution_count": 85,
      "outputs": []
    },
    {
      "cell_type": "code",
      "source": [
        "!mkdir -p saved_model\n",
        "model.save('saved_model/skin_model')"
      ],
      "metadata": {
        "id": "o4mA8ETtrf23"
      },
      "execution_count": 86,
      "outputs": []
    },
    {
      "cell_type": "code",
      "source": [
        "model=tf.keras.models.load_model('saved_model/skin_model')"
      ],
      "metadata": {
        "id": "_vmxFpVxrjCS"
      },
      "execution_count": 87,
      "outputs": []
    },
    {
      "cell_type": "code",
      "source": [
        "img=load_img(\"/content/drive/MyDrive/HackBU/DATA/testing/Acne/acne-pustular-13.jpg\")"
      ],
      "metadata": {
        "colab": {
          "base_uri": "https://localhost:8080/"
        },
        "id": "KlFPsmSrr0YO",
        "outputId": "9b82a48a-7b31-443b-deae-a51a8b16dbbb"
      },
      "execution_count": 88,
      "outputs": [
        {
          "output_type": "stream",
          "name": "stdout",
          "text": [
            "1/1 [==============================] - 0s 170ms/step\n"
          ]
        }
      ]
    },
    {
      "cell_type": "code",
      "source": [
        "np.argmax(model.predict(img))"
      ],
      "metadata": {
        "colab": {
          "base_uri": "https://localhost:8080/"
        },
        "id": "legRAEHdr6r-",
        "outputId": "e2e0291b-b218-41b4-c8ae-df6befd25e12"
      },
      "execution_count": 89,
      "outputs": [
        {
          "output_type": "stream",
          "name": "stdout",
          "text": [
            "1/1 [==============================] - 0s 86ms/step\n"
          ]
        },
        {
          "output_type": "execute_result",
          "data": {
            "text/plain": [
              "0"
            ]
          },
          "metadata": {},
          "execution_count": 89
        }
      ]
    },
    {
      "cell_type": "code",
      "source": [
        "model.save('my_model.h5')"
      ],
      "metadata": {
        "colab": {
          "base_uri": "https://localhost:8080/"
        },
        "id": "8ntoMoa2v_Gh",
        "outputId": "1f90cf2f-51a2-4621-a9c6-37044bb62ea3"
      },
      "execution_count": 90,
      "outputs": [
        {
          "output_type": "stream",
          "name": "stderr",
          "text": [
            "/usr/local/lib/python3.10/dist-packages/keras/src/engine/training.py:3103: UserWarning: You are saving your model as an HDF5 file via `model.save()`. This file format is considered legacy. We recommend using instead the native Keras format, e.g. `model.save('my_model.keras')`.\n",
            "  saving_api.save_model(\n"
          ]
        }
      ]
    }
  ]
}