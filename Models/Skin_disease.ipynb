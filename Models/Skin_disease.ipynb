{
  "nbformat": 4,
  "nbformat_minor": 0,
  "metadata": {
    "colab": {
      "provenance": []
    },
    "kernelspec": {
      "name": "python3",
      "display_name": "Python 3"
    },
    "language_info": {
      "name": "python"
    }
  },
  "cells": [
    {
      "cell_type": "code",
      "execution_count": 1,
      "metadata": {
        "colab": {
          "base_uri": "https://localhost:8080/"
        },
        "id": "0Ay5uhmxtuj3",
        "outputId": "c113d32b-6678-42ad-83c7-c71d9f8e995d"
      },
      "outputs": [
        {
          "output_type": "stream",
          "name": "stdout",
          "text": [
            "Mounted at /content/drive\n"
          ]
        }
      ],
      "source": [
        "from google.colab import drive\n",
        "drive.mount('/content/drive')"
      ]
    },
    {
      "cell_type": "code",
      "source": [
        "import numpy as np\n",
        "import pandas as pd\n",
        "import matplotlib.pyplot as plt\n",
        "import tensorflow as tf\n",
        "from tensorflow import keras"
      ],
      "metadata": {
        "id": "hOCuv9UZxVJv"
      },
      "execution_count": 2,
      "outputs": []
    },
    {
      "cell_type": "code",
      "source": [
        "import warnings\n",
        "warnings.filterwarnings(\"ignore\")"
      ],
      "metadata": {
        "id": "5n_EL-9Mx79q"
      },
      "execution_count": 3,
      "outputs": []
    },
    {
      "cell_type": "code",
      "source": [
        "dataset_url = '/content/drive/MyDrive/contents/skin-disease-datasaet/train_set'"
      ],
      "metadata": {
        "id": "UP6GxvVcx_dQ"
      },
      "execution_count": 4,
      "outputs": []
    },
    {
      "cell_type": "code",
      "source": [
        "import os"
      ],
      "metadata": {
        "id": "n_5YsTqkyL6j"
      },
      "execution_count": 5,
      "outputs": []
    },
    {
      "cell_type": "code",
      "source": [
        "os.listdir(dataset_url)\n"
      ],
      "metadata": {
        "colab": {
          "base_uri": "https://localhost:8080/"
        },
        "id": "KWxyUvI9yV8x",
        "outputId": "3119ea4e-d781-4f83-a9a7-b6efe2a08b62"
      },
      "execution_count": 6,
      "outputs": [
        {
          "output_type": "execute_result",
          "data": {
            "text/plain": [
              "['BA-impetigo',\n",
              " 'BA- cellulitis',\n",
              " 'VI-chickenpox',\n",
              " 'PA-cutaneous-larva-migrans',\n",
              " 'FU-nail-fungus',\n",
              " 'FU-athlete-foot',\n",
              " 'FU-ringworm',\n",
              " 'VI-shingles']"
            ]
          },
          "metadata": {},
          "execution_count": 6
        }
      ]
    },
    {
      "cell_type": "code",
      "source": [
        "import pathlib\n",
        "data_dir=pathlib.Path(dataset_url)\n",
        "data_dir"
      ],
      "metadata": {
        "colab": {
          "base_uri": "https://localhost:8080/"
        },
        "id": "MJGH1wo9yXkx",
        "outputId": "2f99f150-3394-4765-a533-0e2944c9d623"
      },
      "execution_count": 7,
      "outputs": [
        {
          "output_type": "execute_result",
          "data": {
            "text/plain": [
              "PosixPath('/content/drive/MyDrive/contents/skin-disease-datasaet/train_set')"
            ]
          },
          "metadata": {},
          "execution_count": 7
        }
      ]
    },
    {
      "cell_type": "code",
      "source": [
        "cellulitis=list(data_dir.glob('BA- cellulitis/*'))\n",
        "len(cellulitis)"
      ],
      "metadata": {
        "colab": {
          "base_uri": "https://localhost:8080/"
        },
        "id": "sWZZDpXLy1gf",
        "outputId": "65ca88fa-acd7-4982-9ccf-9d210fd67669"
      },
      "execution_count": 8,
      "outputs": [
        {
          "output_type": "execute_result",
          "data": {
            "text/plain": [
              "136"
            ]
          },
          "metadata": {},
          "execution_count": 8
        }
      ]
    },
    {
      "cell_type": "code",
      "source": [
        "VI_chickenpoxt=list(data_dir.glob('VI-chickenpox/*'))\n",
        "len(VI_chickenpoxt)"
      ],
      "metadata": {
        "colab": {
          "base_uri": "https://localhost:8080/"
        },
        "id": "Pbjr43VIzELb",
        "outputId": "24d2ee08-a798-4984-b428-15a66c59a82f"
      },
      "execution_count": 9,
      "outputs": [
        {
          "output_type": "execute_result",
          "data": {
            "text/plain": [
              "136"
            ]
          },
          "metadata": {},
          "execution_count": 9
        }
      ]
    },
    {
      "cell_type": "code",
      "source": [
        "FU_athlete_foot=list(data_dir.glob('FU-athlete-foot/*'))\n",
        "len(FU_athlete_foot)"
      ],
      "metadata": {
        "colab": {
          "base_uri": "https://localhost:8080/"
        },
        "id": "uHhunayazFub",
        "outputId": "0e97a4fe-3207-4fdd-821c-1e69b9289998"
      },
      "execution_count": 10,
      "outputs": [
        {
          "output_type": "execute_result",
          "data": {
            "text/plain": [
              "124"
            ]
          },
          "metadata": {},
          "execution_count": 10
        }
      ]
    },
    {
      "cell_type": "code",
      "source": [
        "VI_shingles=list(data_dir.glob('VI-shingles/*'))\n",
        "len(VI_shingles)\n"
      ],
      "metadata": {
        "colab": {
          "base_uri": "https://localhost:8080/"
        },
        "id": "afVu97XGzHK2",
        "outputId": "ba1ba134-68d9-483d-e435-009fead82901"
      },
      "execution_count": 11,
      "outputs": [
        {
          "output_type": "execute_result",
          "data": {
            "text/plain": [
              "130"
            ]
          },
          "metadata": {},
          "execution_count": 11
        }
      ]
    },
    {
      "cell_type": "code",
      "source": [
        "FU_nail_fungus=list(data_dir.glob('FU-nail-fungus/*'))\n",
        "len(FU_nail_fungus)"
      ],
      "metadata": {
        "colab": {
          "base_uri": "https://localhost:8080/"
        },
        "id": "KX6aFRCrzJkP",
        "outputId": "4f9146e6-9b40-4b28-ebda-2fe04a2ed11a"
      },
      "execution_count": 12,
      "outputs": [
        {
          "output_type": "execute_result",
          "data": {
            "text/plain": [
              "129"
            ]
          },
          "metadata": {},
          "execution_count": 12
        }
      ]
    },
    {
      "cell_type": "code",
      "source": [
        "BA_impetigo=list(data_dir.glob('BA-impetigo/*'))\n",
        "len(BA_impetigo)"
      ],
      "metadata": {
        "colab": {
          "base_uri": "https://localhost:8080/"
        },
        "id": "4718v-pOzL_t",
        "outputId": "f9e0e231-867f-48ee-d084-599729edd08f"
      },
      "execution_count": 13,
      "outputs": [
        {
          "output_type": "execute_result",
          "data": {
            "text/plain": [
              "80"
            ]
          },
          "metadata": {},
          "execution_count": 13
        }
      ]
    },
    {
      "cell_type": "code",
      "source": [
        "FU_ringworm=list(data_dir.glob('FU-ringworm/*'))\n",
        "len(FU_ringworm)"
      ],
      "metadata": {
        "colab": {
          "base_uri": "https://localhost:8080/"
        },
        "id": "sSgE1Gm9zYwR",
        "outputId": "bb05abf8-f8d8-4530-b3c5-c278516b2630"
      },
      "execution_count": 14,
      "outputs": [
        {
          "output_type": "execute_result",
          "data": {
            "text/plain": [
              "90"
            ]
          },
          "metadata": {},
          "execution_count": 14
        }
      ]
    },
    {
      "cell_type": "code",
      "source": [
        "PA_cutaneous_larva_migrans=list(data_dir.glob('PA-cutaneous-larva-migrans/*'))\n",
        "len(PA_cutaneous_larva_migrans)"
      ],
      "metadata": {
        "colab": {
          "base_uri": "https://localhost:8080/"
        },
        "id": "QWnkaVySzaLA",
        "outputId": "ac3915d8-e41b-4922-8bc6-37eaee23372a"
      },
      "execution_count": 15,
      "outputs": [
        {
          "output_type": "execute_result",
          "data": {
            "text/plain": [
              "100"
            ]
          },
          "metadata": {},
          "execution_count": 15
        }
      ]
    },
    {
      "cell_type": "code",
      "source": [
        "disease_images_train_dic={\n",
        "    'cellulitis':list(data_dir.glob('BA- cellulitis/*')),\n",
        "    'impetigo':list(data_dir.glob('BA-impetigo/*')),\n",
        "    'athlete-foot':list(data_dir.glob('FU-athlete-foot/*')),\n",
        "    'nail-fungus':list(data_dir.glob('FU-nail-fungus/*')),\n",
        "    'ringworm':list(data_dir.glob('FU-ringworm/*')),\n",
        "    'cutaneous-larva-migrans':list(data_dir.glob('PA-cutaneous-larva-migrans/*')),\n",
        "    'chickenpox':list(data_dir.glob('VI-chickenpox/*')),\n",
        "    'shingles':list(data_dir.glob('VI-shingles/*')),\n",
        "#     'normal':list(data_dir.glob('normal/*')),\n",
        "}"
      ],
      "metadata": {
        "id": "wh3dR-umzb10"
      },
      "execution_count": 18,
      "outputs": []
    },
    {
      "cell_type": "code",
      "source": [
        "disease_train_label_dic={\n",
        "    'cellulitis': 0,\n",
        "    'impetigo': 1,\n",
        "    'athlete-foot': 2,\n",
        "    'nail-fungus': 3,\n",
        "    'ringworm': 4,\n",
        "    'cutaneous-larva-migrans':5,\n",
        "    'chickenpox':6,\n",
        "    'shingles':7,\n",
        "\n",
        "}"
      ],
      "metadata": {
        "id": "MRMyQNKZzmYt"
      },
      "execution_count": 20,
      "outputs": []
    },
    {
      "cell_type": "code",
      "source": [
        "import cv2\n",
        "\n",
        "x_train = []\n",
        "y_train = []\n",
        "\n",
        "for image_name, image_paths in disease_images_train_dic.items():\n",
        "    for image_path in image_paths:\n",
        "        img = cv2.imread(str(image_path))\n",
        "        if img is None:\n",
        "            continue\n",
        "        image_resize=cv2.resize(img,(224,224))\n",
        "        x_train.append(image_resize)\n",
        "        y_train.append(disease_train_label_dic[image_name])\n"
      ],
      "metadata": {
        "id": "yXNAtALb0Udc"
      },
      "execution_count": 22,
      "outputs": []
    },
    {
      "cell_type": "code",
      "source": [
        "x_train[0].shape\n"
      ],
      "metadata": {
        "colab": {
          "base_uri": "https://localhost:8080/"
        },
        "id": "hm0Wpm6g5mv5",
        "outputId": "3e63fc74-ec32-418c-fa9f-e519be114a45"
      },
      "execution_count": 23,
      "outputs": [
        {
          "output_type": "execute_result",
          "data": {
            "text/plain": [
              "(224, 224, 3)"
            ]
          },
          "metadata": {},
          "execution_count": 23
        }
      ]
    },
    {
      "cell_type": "code",
      "source": [
        "len(x_train)\n"
      ],
      "metadata": {
        "colab": {
          "base_uri": "https://localhost:8080/"
        },
        "id": "nKZUhwIl7w-3",
        "outputId": "4463f274-5e5b-43bb-9f2b-53a1d505528d"
      },
      "execution_count": 24,
      "outputs": [
        {
          "output_type": "execute_result",
          "data": {
            "text/plain": [
              "925"
            ]
          },
          "metadata": {},
          "execution_count": 24
        }
      ]
    },
    {
      "cell_type": "code",
      "source": [
        "len(y_train)\n"
      ],
      "metadata": {
        "colab": {
          "base_uri": "https://localhost:8080/"
        },
        "id": "99Irex2a7zc5",
        "outputId": "c682c085-2457-4ad2-9997-c542a4142c0c"
      },
      "execution_count": 25,
      "outputs": [
        {
          "output_type": "execute_result",
          "data": {
            "text/plain": [
              "925"
            ]
          },
          "metadata": {},
          "execution_count": 25
        }
      ]
    },
    {
      "cell_type": "code",
      "source": [
        "y_train=np.array(y_train)\n",
        "x_train=np.array(x_train)\n",
        "y_train.shape"
      ],
      "metadata": {
        "colab": {
          "base_uri": "https://localhost:8080/"
        },
        "id": "v3HIMnQb708A",
        "outputId": "234347b4-273d-4969-a1c3-70da15c3af94"
      },
      "execution_count": 26,
      "outputs": [
        {
          "output_type": "execute_result",
          "data": {
            "text/plain": [
              "(925,)"
            ]
          },
          "metadata": {},
          "execution_count": 26
        }
      ]
    },
    {
      "cell_type": "code",
      "source": [
        "dataset_url='/content/drive/MyDrive/contents/skin-disease-datasaet/test_set'\n"
      ],
      "metadata": {
        "id": "N28FIay_72e2"
      },
      "execution_count": 28,
      "outputs": []
    },
    {
      "cell_type": "code",
      "source": [
        "import pathlib\n",
        "data_dir=pathlib.Path(dataset_url)\n",
        "data_dir"
      ],
      "metadata": {
        "colab": {
          "base_uri": "https://localhost:8080/"
        },
        "id": "BVnkvOtL740z",
        "outputId": "2cb52e2f-e020-4025-a7b7-4fe652637952"
      },
      "execution_count": 29,
      "outputs": [
        {
          "output_type": "execute_result",
          "data": {
            "text/plain": [
              "PosixPath('/content/drive/MyDrive/contents/skin-disease-datasaet/test_set')"
            ]
          },
          "metadata": {},
          "execution_count": 29
        }
      ]
    },
    {
      "cell_type": "code",
      "source": [
        "disease_images_test_dic={\n",
        "    'cellulitis':list(data_dir.glob('BA- cellulitis/*')),\n",
        "    'impetigo':list(data_dir.glob('BA-impetigo/*')),\n",
        "    'athlete-foot':list(data_dir.glob('FU-athlete-foot/*')),\n",
        "    'nail-fungus':list(data_dir.glob('FU-nail-fungus/*')),\n",
        "    'ringworm':list(data_dir.glob('FU-ringworm/*')),\n",
        "    'cutaneous-larva-migrans':list(data_dir.glob('PA-cutaneous-larva-migrans/*')),\n",
        "    'chickenpox':list(data_dir.glob('VI-chickenpox/*')),\n",
        "    'shingles':list(data_dir.glob('VI-shingles/*')),\n",
        "#     'normal':list(data_dir.glob('test_set/normal/*')),\n",
        "}\n",
        "disease_test_label_dic={\n",
        "    'cellulitis': 0,\n",
        "    'impetigo': 1,\n",
        "    'athlete-foot': 2,\n",
        "    'nail-fungus': 3,\n",
        "    'ringworm': 4,\n",
        "    'cutaneous-larva-migrans':5,\n",
        "    'chickenpox':6,\n",
        "    'shingles':7,\n",
        "#     'normal':8,\n",
        "}"
      ],
      "metadata": {
        "id": "r--A8jtd7-SA"
      },
      "execution_count": 30,
      "outputs": []
    },
    {
      "cell_type": "code",
      "source": [
        "x_test = []\n",
        "y_test = []\n",
        "\n",
        "for image_name, image_paths in disease_images_test_dic.items():\n",
        "    for image_path in image_paths:\n",
        "        img = cv2.imread(str(image_path))\n",
        "        if img is None:\n",
        "            continue\n",
        "        image_resize=cv2.resize(img,(224,224))\n",
        "        x_test.append(image_resize)\n",
        "        y_test.append(disease_test_label_dic[image_name])"
      ],
      "metadata": {
        "id": "8tIHD8QL8B7Z"
      },
      "execution_count": 31,
      "outputs": []
    },
    {
      "cell_type": "code",
      "source": [
        "x_train=np.array(x_train)\n",
        "y_train=np.array(y_train)\n",
        "x_test=np.array(x_test)\n",
        "y_test=np.array(y_test)"
      ],
      "metadata": {
        "id": "lnKkowvx8Ewp"
      },
      "execution_count": 32,
      "outputs": []
    },
    {
      "cell_type": "code",
      "source": [
        "x_test.shape\n"
      ],
      "metadata": {
        "colab": {
          "base_uri": "https://localhost:8080/"
        },
        "id": "tJliKGHC8owK",
        "outputId": "935f5eed-6d0a-4333-fef3-0decd64b0fd9"
      },
      "execution_count": 33,
      "outputs": [
        {
          "output_type": "execute_result",
          "data": {
            "text/plain": [
              "(234, 224, 224, 3)"
            ]
          },
          "metadata": {},
          "execution_count": 33
        }
      ]
    },
    {
      "cell_type": "code",
      "source": [
        "x_train_scaled=x_train/255\n",
        "x_test_scaled=x_test/255"
      ],
      "metadata": {
        "id": "mu4Lb5yn8tbg"
      },
      "execution_count": 34,
      "outputs": []
    },
    {
      "cell_type": "code",
      "source": [
        "x_train_scaled[1]\n"
      ],
      "metadata": {
        "colab": {
          "base_uri": "https://localhost:8080/"
        },
        "id": "T_AIpFes8wEd",
        "outputId": "3e6e3a81-ce14-4167-dd77-e828af285f53"
      },
      "execution_count": 35,
      "outputs": [
        {
          "output_type": "execute_result",
          "data": {
            "text/plain": [
              "array([[[0.25098039, 0.10588235, 0.02745098],\n",
              "        [0.25490196, 0.10980392, 0.03137255],\n",
              "        [0.25490196, 0.09803922, 0.02352941],\n",
              "        ...,\n",
              "        [0.0627451 , 0.08235294, 0.0745098 ],\n",
              "        [0.04705882, 0.06666667, 0.05882353],\n",
              "        [0.02352941, 0.04313725, 0.03529412]],\n",
              "\n",
              "       [[0.2627451 , 0.11764706, 0.03921569],\n",
              "        [0.25490196, 0.10980392, 0.03137255],\n",
              "        [0.2627451 , 0.10588235, 0.03137255],\n",
              "        ...,\n",
              "        [0.04705882, 0.06666667, 0.05882353],\n",
              "        [0.05098039, 0.07058824, 0.0627451 ],\n",
              "        [0.03529412, 0.05490196, 0.04705882]],\n",
              "\n",
              "       [[0.28235294, 0.1254902 , 0.05098039],\n",
              "        [0.2745098 , 0.11764706, 0.04313725],\n",
              "        [0.2627451 , 0.10588235, 0.03137255],\n",
              "        ...,\n",
              "        [0.07058824, 0.09019608, 0.08235294],\n",
              "        [0.0627451 , 0.08235294, 0.0745098 ],\n",
              "        [0.06666667, 0.08627451, 0.07843137]],\n",
              "\n",
              "       ...,\n",
              "\n",
              "       [[0.40784314, 0.42745098, 0.39215686],\n",
              "        [0.37647059, 0.39607843, 0.36078431],\n",
              "        [0.38039216, 0.39215686, 0.35686275],\n",
              "        ...,\n",
              "        [0.57254902, 0.52941176, 0.49803922],\n",
              "        [0.57254902, 0.52941176, 0.49803922],\n",
              "        [0.58431373, 0.54509804, 0.50588235]],\n",
              "\n",
              "       [[0.45490196, 0.46666667, 0.43137255],\n",
              "        [0.4       , 0.41176471, 0.37647059],\n",
              "        [0.38039216, 0.39215686, 0.35686275],\n",
              "        ...,\n",
              "        [0.55294118, 0.50588235, 0.46666667],\n",
              "        [0.56078431, 0.51372549, 0.4745098 ],\n",
              "        [0.56862745, 0.52156863, 0.4745098 ]],\n",
              "\n",
              "       [[0.43921569, 0.45098039, 0.41568627],\n",
              "        [0.41568627, 0.42745098, 0.39215686],\n",
              "        [0.35686275, 0.36862745, 0.33333333],\n",
              "        ...,\n",
              "        [0.5372549 , 0.49019608, 0.45098039],\n",
              "        [0.56470588, 0.50980392, 0.4627451 ],\n",
              "        [0.56862745, 0.51372549, 0.46666667]]])"
            ]
          },
          "metadata": {},
          "execution_count": 35
        }
      ]
    },
    {
      "cell_type": "code",
      "source": [
        "import tensorflow_hub as hub\n"
      ],
      "metadata": {
        "id": "IEtdaH1B8yTC"
      },
      "execution_count": 36,
      "outputs": []
    },
    {
      "cell_type": "code",
      "source": [
        "feature_extractor_url = \"https://tfhub.dev/google/tf2-preview/mobilenet_v2/feature_vector/4\"\n",
        "feature_extractor_layer = hub.KerasLayer(feature_extractor_url,\n",
        "                                         input_shape=(224, 224, 3),\n",
        "                                         trainable=False)"
      ],
      "metadata": {
        "id": "dXMyi6Bn83hS"
      },
      "execution_count": 37,
      "outputs": []
    },
    {
      "cell_type": "code",
      "source": [
        "x_train_scaled.shape\n"
      ],
      "metadata": {
        "colab": {
          "base_uri": "https://localhost:8080/"
        },
        "id": "ABHugP0m85-t",
        "outputId": "1ddfc4c0-ba59-4cd7-9b80-46a1dcb07a55"
      },
      "execution_count": 38,
      "outputs": [
        {
          "output_type": "execute_result",
          "data": {
            "text/plain": [
              "(925, 224, 224, 3)"
            ]
          },
          "metadata": {},
          "execution_count": 38
        }
      ]
    },
    {
      "cell_type": "code",
      "source": [
        "model=keras.Sequential(\n",
        "    [\n",
        "        feature_extractor_layer,\n",
        "        keras.layers.Dense(9,activation='softmax')\n",
        "    ]\n",
        ")\n",
        "model.compile(\n",
        "    optimizer='adam',\n",
        "    loss='sparse_categorical_crossentropy',\n",
        "    metrics='accuracy',\n",
        ")\n",
        "model.fit(x_train_scaled,y_train,epochs=20)"
      ],
      "metadata": {
        "colab": {
          "base_uri": "https://localhost:8080/"
        },
        "id": "yr19p7X488mk",
        "outputId": "f83edc89-3e21-4638-da90-881cb572cfbe"
      },
      "execution_count": 39,
      "outputs": [
        {
          "output_type": "stream",
          "name": "stdout",
          "text": [
            "Epoch 1/20\n",
            "29/29 [==============================] - 39s 1s/step - loss: 1.4817 - accuracy: 0.5005\n",
            "Epoch 2/20\n",
            "29/29 [==============================] - 31s 1s/step - loss: 0.5154 - accuracy: 0.8659\n",
            "Epoch 3/20\n",
            "29/29 [==============================] - 31s 1s/step - loss: 0.3094 - accuracy: 0.9384\n",
            "Epoch 4/20\n",
            "29/29 [==============================] - 31s 1s/step - loss: 0.2173 - accuracy: 0.9676\n",
            "Epoch 5/20\n",
            "29/29 [==============================] - 30s 1s/step - loss: 0.1626 - accuracy: 0.9816\n",
            "Epoch 6/20\n",
            "29/29 [==============================] - 31s 1s/step - loss: 0.1276 - accuracy: 0.9881\n",
            "Epoch 7/20\n",
            "29/29 [==============================] - 30s 1s/step - loss: 0.1005 - accuracy: 0.9946\n",
            "Epoch 8/20\n",
            "29/29 [==============================] - 30s 1s/step - loss: 0.0825 - accuracy: 0.9946\n",
            "Epoch 9/20\n",
            "29/29 [==============================] - 30s 1s/step - loss: 0.0684 - accuracy: 0.9989\n",
            "Epoch 10/20\n",
            "29/29 [==============================] - 31s 1s/step - loss: 0.0589 - accuracy: 1.0000\n",
            "Epoch 11/20\n",
            "29/29 [==============================] - 31s 1s/step - loss: 0.0502 - accuracy: 1.0000\n",
            "Epoch 12/20\n",
            "29/29 [==============================] - 30s 1s/step - loss: 0.0433 - accuracy: 1.0000\n",
            "Epoch 13/20\n",
            "29/29 [==============================] - 31s 1s/step - loss: 0.0384 - accuracy: 1.0000\n",
            "Epoch 14/20\n",
            "29/29 [==============================] - 31s 1s/step - loss: 0.0351 - accuracy: 1.0000\n",
            "Epoch 15/20\n",
            "29/29 [==============================] - 33s 1s/step - loss: 0.0310 - accuracy: 1.0000\n",
            "Epoch 16/20\n",
            "29/29 [==============================] - 32s 1s/step - loss: 0.0277 - accuracy: 1.0000\n",
            "Epoch 17/20\n",
            "29/29 [==============================] - 32s 1s/step - loss: 0.0251 - accuracy: 1.0000\n",
            "Epoch 18/20\n",
            "29/29 [==============================] - 33s 1s/step - loss: 0.0232 - accuracy: 1.0000\n",
            "Epoch 19/20\n",
            "29/29 [==============================] - 32s 1s/step - loss: 0.0214 - accuracy: 1.0000\n",
            "Epoch 20/20\n",
            "29/29 [==============================] - 42s 1s/step - loss: 0.0198 - accuracy: 1.0000\n"
          ]
        },
        {
          "output_type": "execute_result",
          "data": {
            "text/plain": [
              "<keras.src.callbacks.History at 0x7fd630486920>"
            ]
          },
          "metadata": {},
          "execution_count": 39
        }
      ]
    },
    {
      "cell_type": "code",
      "source": [
        "model.evaluate(x_test_scaled,y_test)\n"
      ],
      "metadata": {
        "colab": {
          "base_uri": "https://localhost:8080/"
        },
        "id": "2ExQUX9t8_H6",
        "outputId": "c21b9c83-e389-44d2-cd95-5102d9462a45"
      },
      "execution_count": 40,
      "outputs": [
        {
          "output_type": "stream",
          "name": "stdout",
          "text": [
            "8/8 [==============================] - 10s 1s/step - loss: 0.1021 - accuracy: 0.9701\n"
          ]
        },
        {
          "output_type": "execute_result",
          "data": {
            "text/plain": [
              "[0.10213087499141693, 0.9700854420661926]"
            ]
          },
          "metadata": {},
          "execution_count": 40
        }
      ]
    },
    {
      "cell_type": "code",
      "source": [
        "y_predict=model.predict(x_test_scaled)\n",
        "# y_predict[0]\n",
        "y_predicted_labels=[]\n",
        "for i in y_predict:\n",
        "    y_predicted_labels.append(np.argmax(i))\n",
        "\n",
        "y_predicted_labels=np.array(y_predicted_labels)"
      ],
      "metadata": {
        "colab": {
          "base_uri": "https://localhost:8080/"
        },
        "id": "xl24HTjJAIht",
        "outputId": "b4a075cb-7ebf-4081-e62f-3798dc547027"
      },
      "execution_count": 42,
      "outputs": [
        {
          "output_type": "stream",
          "name": "stdout",
          "text": [
            "8/8 [==============================] - 8s 909ms/step\n"
          ]
        }
      ]
    },
    {
      "cell_type": "code",
      "source": [
        "from sklearn.metrics import confusion_matrix, classification_report\n",
        "print(\"Classification Report: \\n\", classification_report(y_test, y_predicted_labels))"
      ],
      "metadata": {
        "colab": {
          "base_uri": "https://localhost:8080/"
        },
        "id": "nDlCPpn3_r2I",
        "outputId": "cc7bc1aa-0e96-452b-a3dd-fc1acd8a5115"
      },
      "execution_count": 43,
      "outputs": [
        {
          "output_type": "stream",
          "name": "stdout",
          "text": [
            "Classification Report: \n",
            "               precision    recall  f1-score   support\n",
            "\n",
            "           0       0.97      0.94      0.96        34\n",
            "           1       1.00      1.00      1.00        20\n",
            "           2       0.97      0.97      0.97        32\n",
            "           3       0.97      1.00      0.99        33\n",
            "           4       0.96      0.96      0.96        23\n",
            "           5       0.96      0.92      0.94        25\n",
            "           6       1.00      0.97      0.99        34\n",
            "           7       0.94      1.00      0.97        33\n",
            "\n",
            "    accuracy                           0.97       234\n",
            "   macro avg       0.97      0.97      0.97       234\n",
            "weighted avg       0.97      0.97      0.97       234\n",
            "\n"
          ]
        }
      ]
    },
    {
      "cell_type": "code",
      "source": [
        "confusion_matrix=tf.math.confusion_matrix(labels=y_test,predictions=y_predicted_labels)\n",
        "confusion_matrix"
      ],
      "metadata": {
        "colab": {
          "base_uri": "https://localhost:8080/"
        },
        "id": "v2vinKHdAEVQ",
        "outputId": "c9dc9a7a-de2f-45e7-e0e6-9ed9fb56e08f"
      },
      "execution_count": 44,
      "outputs": [
        {
          "output_type": "execute_result",
          "data": {
            "text/plain": [
              "<tf.Tensor: shape=(8, 8), dtype=int32, numpy=\n",
              "array([[32,  0,  0,  0,  1,  1,  0,  0],\n",
              "       [ 0, 20,  0,  0,  0,  0,  0,  0],\n",
              "       [ 0,  0, 31,  1,  0,  0,  0,  0],\n",
              "       [ 0,  0,  0, 33,  0,  0,  0,  0],\n",
              "       [ 0,  0,  0,  0, 22,  0,  0,  1],\n",
              "       [ 1,  0,  1,  0,  0, 23,  0,  0],\n",
              "       [ 0,  0,  0,  0,  0,  0, 33,  1],\n",
              "       [ 0,  0,  0,  0,  0,  0,  0, 33]], dtype=int32)>"
            ]
          },
          "metadata": {},
          "execution_count": 44
        }
      ]
    },
    {
      "cell_type": "code",
      "source": [
        "model.save('my_model.h5')"
      ],
      "metadata": {
        "id": "9JRzhXwWEd3v"
      },
      "execution_count": 46,
      "outputs": []
    },
    {
      "cell_type": "code",
      "source": [
        "import torch\n",
        "from torchvision import models\n",
        "import torch.nn as nn\n",
        "from keras.models import Sequential"
      ],
      "metadata": {
        "id": "TU4ElQ0qEhPq"
      },
      "execution_count": 57,
      "outputs": []
    },
    {
      "cell_type": "code",
      "source": [
        "pip install onnx onnxruntime tf2onnx\n"
      ],
      "metadata": {
        "colab": {
          "base_uri": "https://localhost:8080/"
        },
        "id": "eczS_RX4A4cp",
        "outputId": "3b7cc1ac-bf70-4bfc-8c62-cc28316ee8eb"
      },
      "execution_count": 56,
      "outputs": [
        {
          "output_type": "stream",
          "name": "stdout",
          "text": [
            "Collecting onnx\n",
            "  Downloading onnx-1.15.0-cp310-cp310-manylinux_2_17_x86_64.manylinux2014_x86_64.whl (15.7 MB)\n",
            "\u001b[2K     \u001b[90m━━━━━━━━━━━━━━━━━━━━━━━━━━━━━━━━━━━━━━━━\u001b[0m \u001b[32m15.7/15.7 MB\u001b[0m \u001b[31m29.2 MB/s\u001b[0m eta \u001b[36m0:00:00\u001b[0m\n",
            "\u001b[?25hCollecting onnxruntime\n",
            "  Downloading onnxruntime-1.17.0-cp310-cp310-manylinux_2_27_x86_64.manylinux_2_28_x86_64.whl (6.8 MB)\n",
            "\u001b[2K     \u001b[90m━━━━━━━━━━━━━━━━━━━━━━━━━━━━━━━━━━━━━━━━\u001b[0m \u001b[32m6.8/6.8 MB\u001b[0m \u001b[31m47.2 MB/s\u001b[0m eta \u001b[36m0:00:00\u001b[0m\n",
            "\u001b[?25hCollecting tf2onnx\n",
            "  Downloading tf2onnx-1.16.1-py3-none-any.whl (455 kB)\n",
            "\u001b[2K     \u001b[90m━━━━━━━━━━━━━━━━━━━━━━━━━━━━━━━━━━━━━━━━\u001b[0m \u001b[32m455.8/455.8 kB\u001b[0m \u001b[31m32.0 MB/s\u001b[0m eta \u001b[36m0:00:00\u001b[0m\n",
            "\u001b[?25hRequirement already satisfied: numpy in /usr/local/lib/python3.10/dist-packages (from onnx) (1.25.2)\n",
            "Requirement already satisfied: protobuf>=3.20.2 in /usr/local/lib/python3.10/dist-packages (from onnx) (3.20.3)\n",
            "Collecting coloredlogs (from onnxruntime)\n",
            "  Downloading coloredlogs-15.0.1-py2.py3-none-any.whl (46 kB)\n",
            "\u001b[2K     \u001b[90m━━━━━━━━━━━━━━━━━━━━━━━━━━━━━━━━━━━━━━━━\u001b[0m \u001b[32m46.0/46.0 kB\u001b[0m \u001b[31m5.0 MB/s\u001b[0m eta \u001b[36m0:00:00\u001b[0m\n",
            "\u001b[?25hRequirement already satisfied: flatbuffers in /usr/local/lib/python3.10/dist-packages (from onnxruntime) (23.5.26)\n",
            "Requirement already satisfied: packaging in /usr/local/lib/python3.10/dist-packages (from onnxruntime) (23.2)\n",
            "Requirement already satisfied: sympy in /usr/local/lib/python3.10/dist-packages (from onnxruntime) (1.12)\n",
            "Requirement already satisfied: requests in /usr/local/lib/python3.10/dist-packages (from tf2onnx) (2.31.0)\n",
            "Requirement already satisfied: six in /usr/local/lib/python3.10/dist-packages (from tf2onnx) (1.16.0)\n",
            "Collecting humanfriendly>=9.1 (from coloredlogs->onnxruntime)\n",
            "  Downloading humanfriendly-10.0-py2.py3-none-any.whl (86 kB)\n",
            "\u001b[2K     \u001b[90m━━━━━━━━━━━━━━━━━━━━━━━━━━━━━━━━━━━━━━━━\u001b[0m \u001b[32m86.8/86.8 kB\u001b[0m \u001b[31m9.1 MB/s\u001b[0m eta \u001b[36m0:00:00\u001b[0m\n",
            "\u001b[?25hRequirement already satisfied: charset-normalizer<4,>=2 in /usr/local/lib/python3.10/dist-packages (from requests->tf2onnx) (3.3.2)\n",
            "Requirement already satisfied: idna<4,>=2.5 in /usr/local/lib/python3.10/dist-packages (from requests->tf2onnx) (3.6)\n",
            "Requirement already satisfied: urllib3<3,>=1.21.1 in /usr/local/lib/python3.10/dist-packages (from requests->tf2onnx) (2.0.7)\n",
            "Requirement already satisfied: certifi>=2017.4.17 in /usr/local/lib/python3.10/dist-packages (from requests->tf2onnx) (2024.2.2)\n",
            "Requirement already satisfied: mpmath>=0.19 in /usr/local/lib/python3.10/dist-packages (from sympy->onnxruntime) (1.3.0)\n",
            "Installing collected packages: onnx, humanfriendly, tf2onnx, coloredlogs, onnxruntime\n",
            "Successfully installed coloredlogs-15.0.1 humanfriendly-10.0 onnx-1.15.0 onnxruntime-1.17.0 tf2onnx-1.16.1\n"
          ]
        }
      ]
    },
    {
      "cell_type": "code",
      "source": [],
      "metadata": {
        "id": "iCKyuLEkEavA"
      },
      "execution_count": null,
      "outputs": []
    }
  ]
}